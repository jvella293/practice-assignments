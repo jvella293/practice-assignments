{
 "cells": [
  {
   "cell_type": "markdown",
   "metadata": {},
   "source": [
    "# Workshop 2 - Implementation\n",
    "    \n",
    "In this notebook you will continue to implement the matrix method and check it with some sanity checks."
   ]
  },
  {
   "cell_type": "markdown",
   "metadata": {},
   "source": [
    "> ### Task 0\n",
    ">\n",
    "> Check whether your implementation of last week was correct using the provided solution"
   ]
  },
  {
   "cell_type": "code",
   "execution_count": null,
   "metadata": {},
   "outputs": [],
   "source": [
    "import numpy as np\n",
    "import matrixmethod as mm\n",
    "%config InlineBackend.figure_formats = ['svg']\n",
    "\n",
    "%load_ext autoreload\n",
    "%autoreload 2"
   ]
  },
  {
   "cell_type": "markdown",
   "metadata": {},
   "source": [
    "## 1. The Node class\n",
    "The `Node` class from last week is unchanged and complete"
   ]
  },
  {
   "cell_type": "markdown",
   "metadata": {},
   "source": [
    "## 2. The Element class\n",
    "\n",
    "The implementation is incomplete:\n",
    "- The function `add_distributed_load` should compute the equivalent load vector for a constant load $q$ in $\\bar x$ and $\\bar z$ direction (we'll ignore a distributed moment load now) and moves those loads to the nodes belonging to the element. Remember to use the `add_load` function of the `Node` class to store the equivalent loads (remember we have two nodes per element). Also keep local/global transformations in mind and store `self.q = q` for later use;\n",
    "- The function `bending_moments` receives the nodal displacements of the element in the global coordinate system (`u_global`) and uses it to compute the value of the bending moment at `num_points` equally-spaced points along the element length. Keep local/global transformations in mind and use the ODE approach in SymPy / Maple / pen and paper to compute an expression for $M$. Do the same for for $w$ in the function `full_displacement`.\n",
    "\n",
    "> ### Task 2.1\n",
    ">\n",
    "> Add the missing pieces to the code, before you perform the checks below."
   ]
  },
  {
   "cell_type": "markdown",
   "metadata": {},
   "source": [
    "> ### Task 2.2\n",
    ">\n",
    "> Having made your implementations, it is now time to verify the first addition of your code with a simple sanity check. We would like to solve the following simply-supported beam:\n",
    "> <center>\n",
    ">  <figure>\n",
    ">    <IMG SRC=\"https://raw.githubusercontent.com/ibcmrocha/public/main/ssbeam.png\" WIDTH=200>\n",
    ">  </figure>\n",
    "></center>\n",
    ">\n",
    "> Choose appropriate values yourself.\n",
    ">\n",
    "> Use the code blocks below to set up this problem. After you've added the load, print the element using `print(YOUR ELEMENT)`. Do the shown values for the nodal loads correspond with what you'd expect?"
   ]
  },
  {
   "cell_type": "code",
   "execution_count": null,
   "metadata": {},
   "outputs": [],
   "source": [
    "#YOUR CODE HERE"
   ]
  },
  {
   "cell_type": "code",
   "execution_count": null,
   "metadata": {},
   "outputs": [],
   "source": [
    "print(#YOUR ELEMENT HERE"
   ]
  },
  {
   "cell_type": "markdown",
   "metadata": {},
   "source": [
    "> ### Task 2.3\n",
    ">  Now solve the nodal displacements. Once you are done, compare the rotation at the right end of the beam. Does it match the solution you already know?"
   ]
  },
  {
   "cell_type": "code",
   "execution_count": null,
   "metadata": {},
   "outputs": [],
   "source": [
    "#YOUR CODE HERE"
   ]
  },
  {
   "cell_type": "markdown",
   "metadata": {},
   "source": [
    "> ### Task 2.4\n",
    "> Calculate the bending moment at midspan and plot the moment distribution using `plot_moment_diagram`. Do the values and shape match with what you'd expect?"
   ]
  },
  {
   "cell_type": "code",
   "execution_count": null,
   "metadata": {},
   "outputs": [],
   "source": [
    "u_elem = con.full_disp(#YOUR CODE HERE)\n",
    "#YOUR CODE HERE"
   ]
  },
  {
   "cell_type": "markdown",
   "metadata": {},
   "source": [
    "> ### Task 2.5\n",
    "> Calculate the deflection at midspan and plot the deflected structure using `plot_displaced`. Do the values and shape match with what you'd expect?"
   ]
  },
  {
   "cell_type": "code",
   "execution_count": null,
   "metadata": {},
   "outputs": [],
   "source": [
    "#YOUR CODE HERE"
   ]
  },
  {
   "cell_type": "markdown",
   "metadata": {},
   "source": [
    "## 3. The Constrainer class\n",
    "\n",
    "We're going to expand our Constrainer class, but the implementation is incomplete:\n",
    "- The constrainer class should be able to handle non-zero boundary conditions too. `constrain` should be adapted to do so + the docstring of the class itself. Furthermore, the assert statement of `fix_dof` should be removed.\n",
    "- The function `support_reactions` is incomplete. Since the constrainer is always first going to get `constrain` called, here we already have access to `self.free_dofs`. Together with `self.cons_dofs`, you should have all you need to compute reactions. Note that `f` is also passed as argument. Make sure you take into account the contribution of equivalent element loads that go directly into the supports without deforming the structure.\n",
    "\n",
    "> ### Task 3.1\n",
    ">\n",
    "> Add the missing pieces to the code and docstring, before you perform the checks below."
   ]
  },
  {
   "cell_type": "markdown",
   "metadata": {},
   "source": [
    "> ### Task 3.2\n",
    ">\n",
    "> We're going to verify our implementation. Therefore, we're going to solve an extension bar, supported at both ends, with a load $q$.\n",
    "> <center>\n",
    ">  <figure>\n",
    ">    <IMG SRC=\"https://raw.githubusercontent.com/ibcmrocha/public/main/sanitycheck_3.2.png\" WIDTH=200>\n",
    ">  </figure>\n",
    "></center>\n",
    ">\n",
    "> Choose appropriate values yourself.\n",
    ">\n",
    "> Can you say on beforehand what will be the displacements? And what will be the support reactions?\n",
    "> Use the code blocks below to set up and solve this problem and check the required quantities to make sure your implementation is correct."
   ]
  },
  {
   "cell_type": "code",
   "execution_count": null,
   "metadata": {},
   "outputs": [],
   "source": [
    "#YOUR CODE HERE"
   ]
  },
  {
   "cell_type": "markdown",
   "metadata": {},
   "source": [
    "> ### Task 3.3\n",
    ">\n",
    "> Again, we're going to verify our implementation. Therefore, we're going solve a beam, with a load $F$ and support displacement $\\bar w$ for the right support.\n",
    "> <center>\n",
    ">  <figure>\n",
    ">    <IMG SRC=\"https://raw.githubusercontent.com/ibcmrocha/public/main/sanitycheck_3.3_new.png\" WIDTH=200>\n",
    ">  </figure>\n",
    "></center>\n",
    ">\n",
    "> Choose appropriate values yourself.\n",
    ">\n",
    "> Use the code blocks below to set up and solve this problem and check the required quantities to make sure your implementation is correct."
   ]
  },
  {
   "cell_type": "code",
   "execution_count": null,
   "metadata": {},
   "outputs": [],
   "source": [
    "#YOUR CODE HERE"
   ]
  }
 ],
 "metadata": {
  "kernelspec": {
   "display_name": "base",
   "language": "python",
   "name": "python3"
  },
  "language_info": {
   "codemirror_mode": {
    "name": "ipython",
    "version": 3
   },
   "file_extension": ".py",
   "mimetype": "text/x-python",
   "name": "python",
   "nbconvert_exporter": "python",
   "pygments_lexer": "ipython3",
   "version": "3.9.18"
  }
 },
 "nbformat": 4,
 "nbformat_minor": 2
}
